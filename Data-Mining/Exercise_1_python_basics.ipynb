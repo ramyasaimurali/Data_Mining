{
 "cells": [
  {
   "cell_type": "code",
   "execution_count": null,
   "id": "77d1bcc9-9757-4211-8713-391d4e758263",
   "metadata": {},
   "outputs": [],
   "source": [
    "# 🧪 Exercise 1:\n",
    "\n",
    "### Introduction to Python,  iPython Notebooks and basic packages (numpy and matplotlib)\n",
    "\n",
    "**Instructions:**\n",
    "- You will be using Python 3.\n",
    "  \n",
    "- The notebook is a mixture of codes with explaination and tasks to solve.\n",
    "\n",
    "- Solve all taks that are marked with ✅ **Task for students** tag.\n",
    "\n",
    "- If you are unable to solve the task, move ahead and try to solve it at home.\n",
    "\n",
    "- Avoid using for-loops and while-loops, unless you are explicitly told to do so.\n",
    "\n",
    "- iPython Notebooks are interactive coding environments embedded in a webpage. You will be using iPython notebooks in this class. \n",
    "\n",
    "- After writing your code, you can run the cell by either pressing \"SHIFT\"+\"ENTER\" or by clicking on \"Run Cell\" (denoted by a play symbol) in the upper bar of the notebook.\n",
    "\n",
    "- You only need to write code in the cells or specify that they are used for documentation in Markdown format using \"Esc\" followed by \"m\" to markdown or \"Esc\" followed by \"y\" for code. \n",
    "\n",
    "**After this assignment you will:**\n",
    "- Be able to use iPython Notebooks\n",
    "- Be able to code in Python \n",
    "- Be able to use numpy functions and numpy matrix/vector operations\n",
    "- Be able to plot some simple functions using matplotlib\n",
    "- Be able to vectorize code"
   ]
  },
  {
   "cell_type": "markdown",
   "id": "288c0d3a-1e9d-486b-ad80-7a4ac1124d33",
   "metadata": {},
   "source": [
    "### 1. Shell Commands in IPython\n",
    "The shell is a way to interact textually with your computer. Any command that works at the command-line can be used in IPython by prefixing it with the ! character. For example, the ls, pwd, and echo commands can be run as follows:"
   ]
  },
  {
   "cell_type": "code",
   "execution_count": 2,
   "id": "0d672dbf-f857-4121-ae1e-e5fca1f225d9",
   "metadata": {},
   "outputs": [
    {
     "name": "stdout",
     "output_type": "stream",
     "text": [
      "/home/ramya\n"
     ]
    }
   ],
   "source": [
    "import os\n",
    "print(os.getcwd())"
   ]
  },
  {
   "cell_type": "code",
   "execution_count": null,
   "id": "a84e24b1-12f1-407a-b04d-6a8ccd723f30",
   "metadata": {},
   "outputs": [],
   "source": [
    "contents = !ls\n",
    "print(contents)"
   ]
  },
  {
   "cell_type": "markdown",
   "id": "d95d2db1-bbe5-4038-8ed4-037b821fa750",
   "metadata": {},
   "source": [
    "### 2. Import packages section\n",
    "Here you import the packages you need in your code but you can also do this later on when you need the packages"
   ]
  },
  {
   "cell_type": "code",
   "execution_count": null,
   "id": "e1946cd1-9928-487c-8d2b-f2aaaa13670e",
   "metadata": {},
   "outputs": [],
   "source": [
    "import numpy as np\n",
    "import pandas as pd"
   ]
  },
  {
   "cell_type": "markdown",
   "id": "3a8e96c1-2479-4b24-a627-6b5beddc28bc",
   "metadata": {},
   "source": [
    "### 3. Accessing Documentation \n",
    "\n",
    "#### with ?\n",
    "The Python language and its data science ecosystem is built with the user in mind, and one big part of that is access to documentation. Every Python object contains the reference to a string, known as a doc string, which in most cases will contain a concise summary of the object and how to use it. Python has a built-in help() function that can access this information and prints the results. For example, to see the documentation of the built-in len function, you can do the following:\n",
    "\n",
    "```python\n",
    "In [1]: help(len)\n",
    "Help on built-in function len in module builtins:\n",
    "\n",
    "len(...)\n",
    "    len(object) -> integer\n",
    " ```   \n",
    "\n",
    "Return the number of items of a sequence or mapping."
   ]
  },
  {
   "cell_type": "code",
   "execution_count": null,
   "id": "8965c278-f4f2-4b48-b232-c673e0f57502",
   "metadata": {},
   "outputs": [],
   "source": [
    "# ✅ Task for students: print the signature of the DataFrame object of Pandas\n",
    "#To print signature of something/source code use ?? or help()\n",
    "import pandas as pd\n",
    "#help(pd.DataFrame)"
   ]
  },
  {
   "cell_type": "markdown",
   "id": "5c84d3fd-cc23-48da-9f3a-dbe550537006",
   "metadata": {},
   "source": [
    "#### Accessing Source Code with ??\n"
   ]
  },
  {
   "cell_type": "markdown",
   "id": "ff777494-b77d-43a0-8b97-2bca28f16d4d",
   "metadata": {},
   "source": [
    "Another usefull tool is reading the source code of the object you're curious about. IPython provides a shortcut to the source code with the double question mark (??):"
   ]
  },
  {
   "cell_type": "code",
   "execution_count": null,
   "id": "e6d255eb-138f-4895-b719-666f9d80034b",
   "metadata": {},
   "outputs": [],
   "source": [
    "# ✅ Task for students: print the  source code of numpy mean function\n",
    "#To print signature of something/source code use ??\n",
    "import numpy as np\n",
    "#np.mean??"
   ]
  },
  {
   "cell_type": "markdown",
   "id": "38bb3a97-b60f-4e12-88d4-4ac68bad9988",
   "metadata": {},
   "source": [
    "#### Tab-completion of object contents\n",
    "Handy tool to see a list of all available attributes of an object,  or to find all possible imports in a package ..etc"
   ]
  },
  {
   "cell_type": "code",
   "execution_count": null,
   "id": "567154ce-90fe-4a5e-a863-e3d82c090ba1",
   "metadata": {},
   "outputs": [],
   "source": [
    "# ✅ Task for students:  create a array with zeros of shape 4,6 in numpy and list all its available attributes \n",
    "import numpy as np\n",
    "#dir(pd)\n",
    "arr= np.zeros((4,6))\n",
    "print(arr)\n",
    "#dir(arr)\n",
    "\n",
    "# arr. + Tab to list all attributes or tab completion"
   ]
  },
  {
   "cell_type": "code",
   "execution_count": null,
   "id": "4e542889-2991-4ce7-ac22-708ab974c314",
   "metadata": {},
   "outputs": [],
   "source": [
    "### 4. Immutable and mutable Objects in Python\n",
    "\n",
    "#### 4.1 Immutable\n",
    "Immutable objects are built-in data types such as int, float, bool, string, Unicode, and tuple . Simply put, an immutable object cannot be changed after it is created. \n",
    "\n",
    "Example 1: In this example, we take a tuple and try to change its value at a certain index and print it. Since a tuple is an immutable object, if we try to change it, an error will be thrown."
   ]
  },
  {
   "cell_type": "code",
   "execution_count": null,
   "id": "c1a9a321-954c-476f-b7ec-f9dec145bf69",
   "metadata": {},
   "outputs": [],
   "source": [
    "Tuples - immutable ()\n",
    "strings - immutable\n",
    "list - mutable []\n",
    "dict - mutable {key: value}\n",
    "set - mutable {}"
   ]
  },
  {
   "cell_type": "code",
   "execution_count": null,
   "id": "4326f177-c525-4eac-95d1-d9768b9343f0",
   "metadata": {},
   "outputs": [],
   "source": [
    "# Python code to test that \n",
    "# tuples are immutable \n",
    "tuple1 = (0, 1, 2, 3) \n",
    "tuple1[0] = 4\n",
    "print(tuple1)"
   ]
  },
  {
   "cell_type": "code",
   "execution_count": null,
   "id": "9c10a992-2369-496f-9f33-9f976e3fef85",
   "metadata": {},
   "outputs": [],
   "source": [
    "# strings are immutable \n",
    "message = \"Welcome to Data Mining course\"\n",
    "message[0] = 'p'\n",
    "print(message)"
   ]
  },
  {
   "cell_type": "markdown",
   "id": "fce9748a-42d2-41b4-b73d-a8a5a774c837",
   "metadata": {},
   "source": [
    "#### 4.2 Mutable Objects in Python\n",
    "Mutable objects are of type Python list, Python dict , or Python set . User-defined classes are generally mutable. "
   ]
  },
  {
   "cell_type": "code",
   "execution_count": 74,
   "id": "2c63928b-e8f2-4db6-8a21-7016f4797b04",
   "metadata": {},
   "outputs": [
    {
     "name": "stdout",
     "output_type": "stream",
     "text": [
      "[1, 2, 3, 4]\n",
      "[1, 5, 2, 3, 4]\n",
      "[1, 5, 3, 4]\n",
      "[5, 3, 4]\n",
      "1\n"
     ]
    }
   ],
   "source": [
    "my_list = [1, 2, 3]\n",
    "my_list.append(4)\n",
    "print(my_list)\n",
    "\n",
    "my_list.insert(1, 5)\n",
    "print(my_list)\n",
    "\n",
    "my_list.remove(2)\n",
    "print(my_list)\n",
    "\n",
    "popped_element = my_list.pop(0)\n",
    "print(my_list)  \n",
    "print(popped_element)"
   ]
  },
  {
   "cell_type": "code",
   "execution_count": null,
   "id": "fde820fb-c66a-4976-902d-6f6d85f0f9cd",
   "metadata": {},
   "outputs": [],
   "source": [
    "my_dict = {\"name\": \"Ram\", \"age\": 25}\n",
    "new_dict = my_dict\n",
    "new_dict[\"age\"] = 37\n",
    "\n",
    "print(my_dict)   \n",
    "print(new_dict)"
   ]
  },
  {
   "cell_type": "code",
   "execution_count": null,
   "id": "78d3cd20-3c6f-417e-ae02-b8355304c2d9",
   "metadata": {},
   "outputs": [],
   "source": [
    "my_set = {1, 2, 3}\n",
    "new_set = my_set\n",
    "new_set.add(4)\n",
    "\n",
    "print(my_set)   \n",
    "print(new_set)"
   ]
  },
  {
   "cell_type": "markdown",
   "id": "9d467cdb-27be-4ad2-be59-ced4009cb48c",
   "metadata": {},
   "source": [
    "### 5. List comprehension\n",
    "It’s a concise way to create a list by iterating over a sequence or range and applying an expression to each element in the iteration.\n",
    "\n",
    "A list comprehension produces -- a list!"
   ]
  },
  {
   "cell_type": "code",
   "execution_count": 1,
   "id": "c9079fb3-e150-4cc2-a896-b89b147839f1",
   "metadata": {},
   "outputs": [
    {
     "data": {
      "text/plain": [
       "[0, 1, 2, 3, 4]"
      ]
     },
     "execution_count": 1,
     "metadata": {},
     "output_type": "execute_result"
    }
   ],
   "source": [
    "[i for i in range(5)]"
   ]
  },
  {
   "cell_type": "code",
   "execution_count": 22,
   "id": "6ed3b566-46b8-4048-8403-a382f46d0fe9",
   "metadata": {},
   "outputs": [
    {
     "data": {
      "text/plain": [
       "[0, 2, 4, 6, 8]"
      ]
     },
     "execution_count": 22,
     "metadata": {},
     "output_type": "execute_result"
    }
   ],
   "source": [
    "# ✅ Task for students: Use an if condition in a list comprehension to filter numbers from a list of values from 0 to 9.\n",
    "# The resulting list should include only the numbers that are divisible by 2 (i.e., even numbers).\n",
    "[i for i in range(0,10) if i%2 == 0]\n"
   ]
  },
  {
   "cell_type": "markdown",
   "id": "9fec8c1f-175b-4a7f-a8a2-f45f020052c1",
   "metadata": {},
   "source": [
    "### 6. Assert statements\n",
    "The assert statement exists in almost every programming language. It has two main uses:\n",
    "\n",
    "- It helps detect problems early in your program, where the cause is clear, rather than later when some other operation fails. A type error in Python, for example, can go through several layers of code before actually raising an Exception if not caught early on.\n",
    "\n",
    "- It works as documentation for other developers reading the code, who see the assert and can confidently say that its condition holds from now on."
   ]
  },
  {
   "cell_type": "code",
   "execution_count": 23,
   "id": "156fb0c6-1856-4d15-badf-5139aa948893",
   "metadata": {},
   "outputs": [],
   "source": [
    "assert (1+5)==6"
   ]
  },
  {
   "cell_type": "code",
   "execution_count": null,
   "id": "2cc08b17-a685-468e-8e27-67627197a470",
   "metadata": {},
   "outputs": [],
   "source": [
    "assert (1+6)== 8"
   ]
  },
  {
   "cell_type": "markdown",
   "id": "687fed17-128c-4b85-adf2-baeb38c88eb0",
   "metadata": {},
   "source": [
    "### 7. Functions in Python"
   ]
  },
  {
   "cell_type": "code",
   "execution_count": 11,
   "id": "06e528d8-adf6-45aa-b5f8-e61ba160dc45",
   "metadata": {
    "nbgrader": {
     "grade": false,
     "grade_id": "cell-34c766962f38e6da",
     "locked": false,
     "schema_version": 3,
     "solution": true,
     "task": false
    },
    "tags": []
   },
   "outputs": [],
   "source": [
    "# ✅ Task for students: implent the following function\n",
    "def add_values(a, b):\n",
    "    \"\"\"Calculate the sum a + b\"\"\"\n",
    "    \n",
    "    ### BEGIN SOLUTION\n",
    "    return a+b\n",
    "    ### END SOLUTION\n",
    "    "
   ]
  },
  {
   "cell_type": "code",
   "execution_count": 12,
   "id": "93c60fa5-477c-498a-8d0a-58a7edd83060",
   "metadata": {},
   "outputs": [],
   "source": [
    "assert add_values(1,3) == 4\n",
    "assert add_values(-4, 2) == -2 "
   ]
  },
  {
   "cell_type": "code",
   "execution_count": 21,
   "id": "b9c3ea9f-b842-4b2a-923d-1ae7e3aceea2",
   "metadata": {
    "nbgrader": {
     "grade": false,
     "grade_id": "cell-f294cc6d93d4db92",
     "locked": false,
     "schema_version": 3,
     "solution": true,
     "task": false
    },
    "tags": []
   },
   "outputs": [
    {
     "data": {
      "text/plain": [
       "15"
      ]
     },
     "execution_count": 21,
     "metadata": {},
     "output_type": "execute_result"
    }
   ],
   "source": [
    "# ✅ Task for students: implement the following function \n",
    "def cumulative_sum(n):\n",
    "    \"\"\"Calculate the sum 1 + 2 + 3 + ... + n\"\"\"\n",
    "    \n",
    "    ### BEGIN SOLUTION\n",
    "    sum =0\n",
    "    for i in range(1, n+1):\n",
    "        sum += i\n",
    "    return sum\n",
    "\n",
    "    # total = 0\n",
    "    # y=0\n",
    "    # while (y<=n):\n",
    "    #     total = y +total\n",
    "    #     y=y+1\n",
    "    # return total\n",
    "cumulative_sum(5)\n",
    "    ### END SOLUTION"
   ]
  },
  {
   "cell_type": "code",
   "execution_count": 22,
   "id": "c5e75d3e-c11f-48e1-b30e-ef124fd23a16",
   "metadata": {
    "nbgrader": {
     "grade": true,
     "grade_id": "cell-b43114636fc67f0e",
     "locked": true,
     "points": 2,
     "schema_version": 3,
     "solution": false,
     "task": false
    },
    "tags": []
   },
   "outputs": [],
   "source": [
    "assert cumulative_sum(1) == 1\n",
    "assert cumulative_sum(5) == 1 + 2 + 3 + 4 + 5\n",
    "assert cumulative_sum(100) == 5050"
   ]
  },
  {
   "cell_type": "code",
   "execution_count": 28,
   "id": "91b2ff0a-2643-449e-bc10-0040b1d956f6",
   "metadata": {
    "nbgrader": {
     "grade": false,
     "grade_id": "cell-6354c40c733a8ef7",
     "locked": false,
     "schema_version": 3,
     "solution": true,
     "task": false
    },
    "tags": []
   },
   "outputs": [
    {
     "name": "stdout",
     "output_type": "stream",
     "text": [
      "True\n",
      "False\n"
     ]
    }
   ],
   "source": [
    "# ✅ Task for students: implement the following function \n",
    "# In Python, [::-1] is called slicing with a negative step. \n",
    "# This particular syntax is used to reverse a list or sequence (like a string) by stepping backward through it\n",
    "def is_palindrome(s):\n",
    "    \"\"\"Returns True, when s does not change when being reversed\"\"\"\n",
    "    \n",
    "    ### BEGIN SOLUTION\n",
    "    rev = s[::-1]\n",
    "    if rev == s:\n",
    "        return True\n",
    "    else:\n",
    "        return False\n",
    "is_palindrome(\"racecar\")\n",
    "is_palindrome(\"foo\")\n",
    "\n",
    "# If you want both the function's output to be executed use print() function\n",
    "print(is_palindrome(\"racecar\"))\n",
    "print(is_palindrome(\"foo\"))\n",
    "    ### END SOLUTION"
   ]
  },
  {
   "cell_type": "code",
   "execution_count": 29,
   "id": "d8d9d3b6-4744-4ccc-a8f6-bb19970c4d50",
   "metadata": {
    "nbgrader": {
     "grade": true,
     "grade_id": "cell-8718f2c3dfc11d89",
     "locked": true,
     "points": 2,
     "schema_version": 3,
     "solution": false,
     "task": false
    },
    "tags": []
   },
   "outputs": [],
   "source": [
    "assert is_palindrome(\"racecar\") == True\n",
    "assert is_palindrome(\"foo\") == False\n",
    "assert is_palindrome(\"oof\") == False\n",
    "assert is_palindrome(\"a\") == True\n",
    "assert is_palindrome(\"ab\") == False\n",
    "assert is_palindrome(\"aba\") == True\n",
    "assert is_palindrome(\"abba\") == True"
   ]
  },
  {
   "cell_type": "code",
   "execution_count": 65,
   "id": "16811a3a-9340-4403-9185-c17678f35cdf",
   "metadata": {
    "nbgrader": {
     "grade": false,
     "grade_id": "cell-00308c5a78e62c6f",
     "locked": false,
     "schema_version": 3,
     "solution": true,
     "task": false
    },
    "tags": []
   },
   "outputs": [
    {
     "name": "stdout",
     "output_type": "stream",
     "text": [
      "4\n",
      "False\n"
     ]
    }
   ],
   "source": [
    "# ✅ Task for students: implement the following function \n",
    "def find_the_a(s):\n",
    "    \"\"\"Returns the position of the first \"a\" in s or False if none exists\"\"\"\n",
    "    \n",
    "    ### BEGIN SOLUTION\n",
    "    for index , char in enumerate(s, start = 0):\n",
    "        \n",
    "        if char == 'a':\n",
    "            return index\n",
    "    # If we reach here, no 'a' was found\n",
    "    return False\n",
    "            \n",
    "print(find_the_a(\"Noufal\"))\n",
    "print(find_the_a(\"Mevis\"))\n",
    "\n",
    "    ### END SOLUTION  "
   ]
  },
  {
   "cell_type": "code",
   "execution_count": 69,
   "id": "8a2d890b-fb21-4b07-b7f9-c1c1ec7130c8",
   "metadata": {},
   "outputs": [
    {
     "name": "stdout",
     "output_type": "stream",
     "text": [
      "1 hi\n",
      "2 Hallo\n",
      "3 vanakkam\n"
     ]
    }
   ],
   "source": [
    "# enumerate(iterable, start=0)\n",
    "# for index, item in enumerate(iterative, start=0):\n",
    "# index gets the position, item gets the value\n",
    "s=['hi','Hallo','vanakkam']\n",
    "for index , greetings in enumerate(s, start=1):\n",
    "    print (index, greetings)"
   ]
  },
  {
   "cell_type": "code",
   "execution_count": 73,
   "id": "101d0903-fb09-4bd2-b2a5-51a480048f55",
   "metadata": {
    "nbgrader": {
     "grade": true,
     "grade_id": "cell-43a48a65bd4363da",
     "locked": true,
     "points": 2,
     "schema_version": 3,
     "solution": false,
     "task": false
    },
    "tags": []
   },
   "outputs": [],
   "source": [
    "assert find_the_a(\"Hallo Welt!\") == 1\n",
    "assert find_the_a(\"Bacon and Spam\") == 1\n",
    "assert find_the_a(\"edcba\") == 4\n",
    "assert find_the_a(\"Hello world!\") == False\n",
    "assert find_the_a(\"\") == False"
   ]
  },
  {
   "cell_type": "code",
   "execution_count": 85,
   "id": "5debb687-b417-4e59-aa22-83f785bc352b",
   "metadata": {
    "nbgrader": {
     "grade": false,
     "grade_id": "cell-420344f284bb3fb7",
     "locked": false,
     "schema_version": 3,
     "solution": true,
     "task": false
    },
    "tags": []
   },
   "outputs": [
    {
     "data": {
      "text/plain": [
       "[1, 1, 2, 3, 5, 8]"
      ]
     },
     "execution_count": 85,
     "metadata": {},
     "output_type": "execute_result"
    }
   ],
   "source": [
    "# ✅ Task for students: implement the following function \n",
    "def fibonacci(n):\n",
    "    \"\"\"Returns the fibonacci sequence [1,1,2,3,5,8,...,m], with m being the last element smaller or equal n\n",
    "        see https://en.wikipedia.org/wiki/Fibonacci_number\"\"\"\n",
    "    \n",
    "    ### BEGIN SOLUTION\n",
    "    a=1\n",
    "    b=1\n",
    "    list = []\n",
    "    while (a<=n):\n",
    "        list.append(a)\n",
    "        nextfib=a+b\n",
    "        a=b\n",
    "        b=nextfib\n",
    "        \n",
    "        \n",
    "    return list\n",
    "fibonacci(8)\n",
    "        \n",
    "        \n",
    "    ### END SOLUTION"
   ]
  },
  {
   "cell_type": "code",
   "execution_count": 86,
   "id": "c9611cd7-d2a3-4a7d-9b2e-25942cb76946",
   "metadata": {
    "nbgrader": {
     "grade": true,
     "grade_id": "cell-4e4da9a1d5e7f906",
     "locked": true,
     "points": 2,
     "schema_version": 3,
     "solution": false,
     "task": false
    },
    "tags": []
   },
   "outputs": [],
   "source": [
    "assert fibonacci(1) == [1,1]\n",
    "assert fibonacci(2) == [1,1,2]\n",
    "assert fibonacci(3) == [1,1,2,3]\n",
    "assert fibonacci(20) == [1,1,2,3,5,8,13]"
   ]
  },
  {
   "cell_type": "code",
   "execution_count": 87,
   "id": "1d68ba7c-aeb8-41ac-a729-ba6e514793c6",
   "metadata": {
    "nbgrader": {
     "grade": false,
     "grade_id": "cell-72baf6c8e33274f2",
     "locked": false,
     "schema_version": 3,
     "solution": true,
     "task": false
    },
    "tags": []
   },
   "outputs": [],
   "source": [
    "# ✅ Task for students: implement the following function \n",
    "def is_prime(x):\n",
    "    \"\"\"Returns True if x is a prime number\"\"\"\n",
    "    \n",
    "    ### BEGIN SOLUTION\n",
    "    for i in range (2, x):\n",
    "        if x%i == 0:\n",
    "            return False\n",
    "    return True\n",
    "    ### END SOLUTION "
   ]
  },
  {
   "cell_type": "code",
   "execution_count": 88,
   "id": "30061e09-bd7f-45eb-96be-b4bd1a7122a3",
   "metadata": {
    "nbgrader": {
     "grade": true,
     "grade_id": "cell-f7a3dfdf856b3e32",
     "locked": true,
     "points": 2,
     "schema_version": 3,
     "solution": false,
     "task": false
    },
    "tags": []
   },
   "outputs": [],
   "source": [
    "assert is_prime(2) == True\n",
    "assert is_prime(3) == True\n",
    "assert is_prime(4) == False\n",
    "assert is_prime(5) == True\n",
    "assert is_prime(6) == False\n",
    "assert is_prime(10) == False\n",
    "assert is_prime(101) == True"
   ]
  },
  {
   "cell_type": "markdown",
   "id": "60a7a69b-6541-49a1-83e5-56d63b1f40ec",
   "metadata": {},
   "source": [
    "### 8. Object-Oriented Programming (OOP) in Python\n"
   ]
  },
  {
   "cell_type": "code",
   "execution_count": null,
   "id": "636487e2-01d5-42f1-8c25-57dcb3338fda",
   "metadata": {},
   "outputs": [],
   "source": [
    "class Dog:\n",
    "    # Constructor to initialize the dog's name and age\n",
    "    def __init__(self, name, age):\n",
    "        self.name = name  # attribute\n",
    "        self.age = age    # attribute\n",
    "\n",
    "    # Method to make the dog bark\n",
    "    def bark(self):\n",
    "        return f\"{self.name} says woof!\"\n",
    "\n",
    "    # Method to describe the dog\n",
    "    def describe(self):\n",
    "        return f\"{self.name} is {self.age} years old.\"\n",
    "\n",
    "# Create instances (objects) of the Dog class\n",
    "dog1 = Dog(\"Buddy\", 4)\n",
    "dog2 = Dog(\"Lucy\", 2)\n",
    "\n",
    "# Interact with the objects\n",
    "print(dog1.bark())        # Output: Buddy says woof!\n",
    "print(dog2.describe())    # Output: Lucy is 2 years old.\n",
    "print(dog1.describe())    # Output: Buddy is 4 years old.\n"
   ]
  },
  {
   "cell_type": "code",
   "execution_count": 92,
   "id": "65e2a481-68b2-4260-a0f2-0197e029b27c",
   "metadata": {},
   "outputs": [
    {
     "name": "stdout",
     "output_type": "stream",
     "text": [
      "The car is of Ford and from the year 1997\n",
      "The car is of Porsche and from the year 2002\n",
      "The car is of Ford\n",
      "The car is of Porsche\n"
     ]
    }
   ],
   "source": [
    "class Car:\n",
    "    def __init__(self,brand, year):\n",
    "        self.b = brand\n",
    "        self.y = year\n",
    "\n",
    "    def describe(self):\n",
    "        return f\"The car is of {self.b} and from the year {self.y}\"\n",
    "\n",
    "    \n",
    "    def Name(self):\n",
    "        return f\"The car is of {self.b}\"\n",
    "\n",
    "car1 = Car(\"Ford\", 1997)\n",
    "car2 = Car(\"Porsche\", 2002)\n",
    "\n",
    "print(car1.describe())\n",
    "print(car2.describe())\n",
    "print(car1.Name())\n",
    "print(car2.Name())"
   ]
  },
  {
   "cell_type": "markdown",
   "id": "4878268c-8864-4c4e-98b1-d4669cfafd21",
   "metadata": {
    "nbgrader": {
     "grade": false,
     "grade_id": "cell-6b5badf3c0ac13d4",
     "locked": true,
     "schema_version": 3,
     "solution": false,
     "task": false
    },
    "tags": []
   },
   "source": [
    "### 9. Plotting in Ipython\n",
    "The two main libraries we will be using throughout this course, are searborn and matplotlib.\n",
    "\n",
    "✅ Task for students: try to create a plot of the following function using matplotlib:\n",
    "\n",
    "$f(x) = \\begin{cases}\n",
    "x && \\text{if } x >= 0 \\\\\n",
    "0 && \\text{else}\n",
    "\\end{cases}$"
   ]
  },
  {
   "cell_type": "code",
   "execution_count": 103,
   "id": "7af43198-c794-47ed-b740-440f9b8c4082",
   "metadata": {},
   "outputs": [
    {
     "data": {
      "image/png": "[encoded data removed]",
      "text/plain": [
       "<Figure size 640x480 with 1 Axes>"
      ]
     },
     "metadata": {},
     "output_type": "display_data"
    }
   ],
   "source": [
    "import numpy as np                 \n",
    "import matplotlib.pyplot as plt    \n",
    "\n",
    "# 1. Create x values from -3 to 3\n",
    "x = np.linspace(-3, 3, 100)       # np.linspace(start, stop, num)  -> Creates 100 evenly spaced values from -3 to 3\n",
    "\n",
    "# 2. Define the piecewise function: f(x) = x if x >= 0, else 0\n",
    "y = np.where(x >= 0, x, 0)        # np.where(condition, value_if_true, value_if_false)  -> For each x, if x >= 0 use x, else 0\n",
    "\n",
    "# 3. Plot the function\n",
    "plt.plot(x, y, label='f(x) = x if x >= 0 else 0')   # plt.plot(x, y, label=...)  -> Plots y versus x with a label for the legend\n",
    "plt.xlabel('x')                    # plt.xlabel('label')  -> Sets the label for the x-axis\n",
    "plt.ylabel('f(x)')                 # plt.ylabel('label')  -> Sets the label for the y-axis\n",
    "plt.title('Plot of the piecewise function')          # plt.title('title')  -> Sets the title of the plot\n",
    "plt.legend()                      # plt.legend()  -> Displays the legend on the plot\n",
    "plt.grid(True)                     # plt.grid(True)  -> Adds a grid to the plot for better readability\n",
    "plt.show()                         # plt.show()  -> Displays the plot window\n"
   ]
  },
  {
   "cell_type": "code",
   "execution_count": 117,
   "id": "bc9e346d-b01f-43bb-b678-44478c5d9c25",
   "metadata": {
    "nbgrader": {
     "grade": true,
     "grade_id": "cell-2a8e8725bb6d3cdc",
     "locked": false,
     "points": 2,
     "schema_version": 3,
     "solution": true,
     "task": false
    },
    "tags": []
   },
   "outputs": [
    {
     "data": {
      "image/png": "[encoded data removed]",
      "text/plain": [
       "<Figure size 640x480 with 1 Axes>"
      ]
     },
     "metadata": {},
     "output_type": "display_data"
    }
   ],
   "source": [
    "import matplotlib.pyplot as plt\n",
    "import numpy as np\n",
    "# Create the plot of f(x) from -3 <= x <= 3\n",
    "\n",
    "### BEGIN SOLUTION\n",
    "# Define the function f(x)\n",
    "def f(x):\n",
    "    return np.where(x >= 0, x, 0)\n",
    "\n",
    "# Generate x values from -3 to 3\n",
    "x = np.linspace(-3, 3, 100)\n",
    "y = f(x) # Calling the function here and passing it to y\n",
    "\n",
    "# Create the plot\n",
    "plt.plot(x, y, label=\"f(x)\") #legend label\n",
    "plt.xlabel(\"x\") # x label\n",
    "plt.ylabel(\"f(x)\") # y label\n",
    "plt.title(\"Plot of the function f(x)\") # graph title\n",
    "plt.axhline(0, color=\"red\", linestyle=\"--\", linewidth=0.8) # horizontal along y\n",
    "plt.axvline(0, color=\"red\", linestyle=\"--\", linewidth=0.8) # vertical along x\n",
    "plt.legend()\n",
    "plt.grid(True)\n",
    "plt.show()\n",
    "### END SOLUTION"
   ]
  },
  {
   "cell_type": "markdown",
   "id": "3b248220-b616-4746-910a-cfc1b78b3968",
   "metadata": {},
   "source": [
    "### 🚀  10. NumPy\n",
    "NumPy is an open-source Python library that facilitates efficient numerical operations on large quantities of data. When coding in numpy remeber to leverage vectorization.\n",
    "\n",
    "***Vectorization*** allows you to operate on entire arrays without using explicit loops. This leads to faster and more readable code."
   ]
  },
  {
   "cell_type": "code",
   "execution_count": null,
   "id": "e546c7d8-3ad7-4e08-92bd-8c5c5229a52e",
   "metadata": {},
   "outputs": [],
   "source": [
    "import numpy as np\n",
    "\n",
    "# Example: Multiply each element in an array by 2\n",
    "\n",
    "# Without vectorization (Python loop)\n",
    "a_list = [1, 2, 3, 4, 5]\n",
    "result_loop = []\n",
    "for x in a_list:\n",
    "    result_loop.append(x * 2)\n",
    "print(\"Using loop:\", result_loop)\n",
    "\n",
    "# With NumPy vectorization\n",
    "a_array = np.array([1, 2, 3, 4, 5])\n",
    "result_vectorized = a_array * 2\n",
    "print(\"Using vectorization:\", result_vectorized)"
   ]
  },
  {
   "cell_type": "markdown",
   "id": "8e4329c9-a16d-4fed-99c1-2ff1aaa756b3",
   "metadata": {},
   "source": [
    "✅ Task for students:\n",
    "1. Create a NumPy array from 0 to 9.\n",
    "2. Compute the square of each number using vectorization.\n",
    "3. Then, compare it to a loop-based version (you can use list comperhension)\n",
    "4. use %timeit to measure how much time does it take in both cases"
   ]
  },
  {
   "cell_type": "code",
   "execution_count": 135,
   "id": "96b61ecf-5279-48f5-a5fa-3387efda6396",
   "metadata": {},
   "outputs": [
    {
     "name": "stdout",
     "output_type": "stream",
     "text": [
      "278 ns ± 15.8 ns per loop (mean ± std. dev. of 7 runs, 1,000,000 loops each)\n",
      "[ 0  1  4  9 16 25 36 49 64 81]\n",
      "896 ns ± 15 ns per loop (mean ± std. dev. of 7 runs, 1,000,000 loops each)\n",
      "[0, 1, 4, 9, 16, 25, 36, 49, 64, 81]\n"
     ]
    }
   ],
   "source": [
    "# write your code here\n",
    "import numpy as np\n",
    "num = np.array(range(0,10))\n",
    "%timeit vecarr = num **2\n",
    "print(vecarr)\n",
    "\n",
    "%timeit larr = [i**2 for i in num]\n",
    "print(larr)"
   ]
  },
  {
   "cell_type": "markdown",
   "id": "834e6668-a4b9-4ef4-9222-943a536d9f57",
   "metadata": {},
   "source": [
    "✅ Task for students: Build a vectorized function that returns the sigmoid of a real number x. \n",
    "\n",
    "Use math.exp(x) for the exponential function.\n",
    "The sigmoid is the function $\\sigma(x)=\\frac{1}{1+e^{-x}}$. "
   ]
  },
  {
   "cell_type": "code",
   "execution_count": 155,
   "id": "b349af17-adf7-46a7-9510-ef7d24d1bc89",
   "metadata": {},
   "outputs": [
    {
     "name": "stdout",
     "output_type": "stream",
     "text": [
      "0.9525741268224334\n",
      "[0.98201379 0.99330715 0.99752738]\n"
     ]
    }
   ],
   "source": [
    "import numpy as np\n",
    "def sigmoid(x): ##Takes any number and converts it to a number between 0 and 1\n",
    "    \"\"\"\n",
    "    Compute the sigmoid of x, with x being a scalar or a numpy array\n",
    "    Scalar: one number\n",
    "\n",
    "    Vector: list of scalars / array\n",
    "\n",
    "    Matrix: grid (multiple vectors) of numbers\n",
    "    \"\"\"\n",
    "    \n",
    "    ### BEGIN SOLUTION\n",
    "    return 1 / (1 + np.exp(-x))\n",
    "print(sigmoid(3))\n",
    "print(sigmoid(np.array([4,5,6])))\n",
    "    ### END SOLUTION"
   ]
  },
  {
   "cell_type": "code",
   "execution_count": 156,
   "id": "e789a3c9-fa79-4136-aa8d-133604e02f43",
   "metadata": {},
   "outputs": [],
   "source": [
    "assert np.allclose(sigmoid(np.array([1,2,3])), [0.73105858, 0.88079708, 0.95257413])"
   ]
  },
  {
   "cell_type": "markdown",
   "id": "64176eaa-88f4-4ef9-bed1-fa099989bdc6",
   "metadata": {},
   "source": [
    "✅ Task for students:\n",
    "\n",
    "Implement the numpy vectorized version of the L1 loss. You may find the function abs(x) (absolute value of x) useful.\n",
    "\n",
    "**Reminder**:\n",
    "- The loss is used to evaluate the performance of some ML models. The bigger your loss is, the more different your predictions ($ \\hat{y} $) are from the true values ($y$). In Machine learning, you use optimization algorithms like Gradient Descent to train your model and to minimize the cost.\n",
    "- L1 loss is defined as:\n",
    "$$\\begin{align*} & L_1(\\hat{y}, y) = \\sum_{i=0}^{m-1}|y^{(i)} - \\hat{y}^{(i)}| \\end{align*}\\tag{6}$$"
   ]
  },
  {
   "cell_type": "code",
   "execution_count": 191,
   "id": "64b155ee-912a-4b77-944c-4c3bb77fec72",
   "metadata": {},
   "outputs": [
    {
     "data": {
      "text/plain": [
       "1.7"
      ]
     },
     "execution_count": 191,
     "metadata": {},
     "output_type": "execute_result"
    }
   ],
   "source": [
    "'''\n",
    "Vectorization\n",
    "To calculate L1 loss (this formula is to calculate the sum) \n",
    "1. difference between true and predicted values (y-yhat)\n",
    "2. get absolute of the difference |y-yhat|\n",
    "3. sum of the |y-yhat|\n",
    "'''\n",
    "\n",
    "\n",
    "import numpy as np\n",
    "def L1(yhat, y):\n",
    "    \"\"\"\n",
    "    Arguments:\n",
    "    yhat -- vector of size m (predicted labels)\n",
    "    y -- vector of size m (true labels)\n",
    "    \n",
    "    Returns:\n",
    "    loss -- the value of the L1 loss function defined above\n",
    "    \"\"\"\n",
    "    ### BEGIN SOLUTION\n",
    "    \n",
    "    sub = y -yhat\n",
    "    abs_diff = np.abs(sub)\n",
    "    L1 = np.sum(abs_diff)\n",
    "    return L1\n",
    "arg_yhat = np.array([.7, 0.1, 0.6, .5, .8])\n",
    "arg_y = np.array([1, 0, 0, 1, 1])\n",
    "L1(arg_yhat,arg_y)\n",
    "    ### END SOLUTION "
   ]
  },
  {
   "cell_type": "code",
   "execution_count": 192,
   "id": "577d60ef-fedd-4a46-9494-add7bd7fcbf2",
   "metadata": {},
   "outputs": [],
   "source": [
    "yhat = np.array([.9, 0.2, 0.1, .4, .9])\n",
    "y = np.array([1, 0, 0, 1, 1])\n",
    "\n",
    "assert np.allclose(L1(yhat, y), 1.1)"
   ]
  },
  {
   "cell_type": "code",
   "execution_count": 193,
   "id": "2f6f3c43-770a-448e-b94f-08e9a76b38e8",
   "metadata": {},
   "outputs": [
    {
     "name": "stdout",
     "output_type": "stream",
     "text": [
      "1.7\n"
     ]
    }
   ],
   "source": [
    "'''\n",
    "List Comprehension \n",
    "[expression for item in iterable if condition]\n",
    "1. i is the index of each data point\n",
    "\n",
    "'''\n",
    "import numpy as np\n",
    "def L1(yhat, y):\n",
    "#If lists are of same length\n",
    "    sum_abs = sum([abs(y[i] - yhat[i]) for i in range(len(y))])\n",
    "    print(sum_abs)\n",
    "\n",
    "\n",
    "arg_yhat = [.7, 0.1, 0.6, .5, .8]\n",
    "arg_y = [1, 0, 0, 1, 1]\n",
    "L1(arg_yhat,arg_y)"
   ]
  },
  {
   "cell_type": "markdown",
   "id": "8b789986-61f4-4b9a-8552-484ed169a070",
   "metadata": {},
   "source": [
    "✅ Task for students:\n",
    "\n",
    "Implement the numpy vectorized version of the L2 loss. There are several way of implementing the L2 loss but you may find the function np.dot() useful. \n",
    "\n",
    "As a reminder, if $x = [x_1, x_2, ..., x_n]$, then `np.dot(x,x)` = $\\sum_{j=0}^n x_j^{2}$. \n",
    "\n",
    "L2 loss is defined as: $$\\begin{align*} & L_2(\\hat{y},y) = \\sum_{i=0}^{m-1}(y^{(i)} - \\hat{y}^{(i)})^2 \\end{align*}\\tag{7}$$"
   ]
  },
  {
   "cell_type": "code",
   "execution_count": 211,
   "id": "1c86e4ab-e40e-4680-92bb-44df1221c710",
   "metadata": {},
   "outputs": [
    {
     "name": "stdout",
     "output_type": "stream",
     "text": [
      "0.43\n"
     ]
    }
   ],
   "source": [
    "import numpy as np\n",
    "def L2(yhat, y):\n",
    "    \"\"\"\n",
    "    Arguments:\n",
    "    yhat -- vector of size m (predicted labels)\n",
    "    y -- vector of size m (true labels)\n",
    "    \n",
    "    Returns:\n",
    "    loss -- the value of the L2 loss function defined above\n",
    "    1.Find y-yhat\n",
    "    2. square all differences\n",
    "    3. add all squared differences\n",
    "    \"\"\"\n",
    "    # YOUR CODE STARTS HERE\n",
    "    \n",
    "    diff = y -yhat                 #1.Find y-yhat\n",
    "    dot_diff= np.dot(diff,diff)    #2. square all differences\n",
    "    sum_dot_diff= np.sum(dot_diff) #3. add all squared differences\n",
    "    return sum_dot_diff\n",
    "yhat = np.array([.9, 0.2, 0.1, .4, .9])\n",
    "y = np.array([1, 0, 0, 1, 1])\n",
    "print(L2(yhat,y))\n",
    "    ### END SOLUTION "
   ]
  },
  {
   "cell_type": "code",
   "execution_count": 212,
   "id": "d731fea6-5f52-4d14-8bac-62986895b31b",
   "metadata": {},
   "outputs": [],
   "source": [
    "yhat = np.array([.9, 0.2, 0.1, .4, .9])\n",
    "y = np.array([1, 0, 0, 1, 1])\n",
    "\n",
    "assert np.allclose(L2(yhat, y), 0.43)"
   ]
  },
  {
   "cell_type": "markdown",
   "id": "effcb391-273c-4558-9929-9c63474c158c",
   "metadata": {},
   "source": [
    "<font color='blue'>\n",
    "    \n",
    "**What to remember**\n",
    "- learn the most important shortcuts of jupter notebook (add and remove a cell, write documentation, use shell...etc.)\n",
    "- Vectorization is very important in Data Mining. It provides computational efficiency and clarity.\n",
    "- Familiarize yourself with numpy functions such as, np.shape, np.reshape, np.sum, np.dot, np.multiply, np.maximum, etc..."
   ]
  },
  {
   "cell_type": "markdown",
   "id": "e69bee3d-9268-4f69-8f8d-acae850d0bd3",
   "metadata": {},
   "source": [
    "## Resources\n",
    "- [Python Data Science Handbook](http://shop.oreilly.com/product/0636920034919.do) by Jake VanderPlas; the content is available [on GitHub](https://github.com/jakevdp/PythonDataScienceHandbook).\n",
    "- [The IPython website](http://ipython.org): links to documentation, examples, tutorials, and a variety of other resources.\n",
    "- [The nbviewer website](http://nbviewer.jupyter.org/): static renderings of any IPython notebook available on the internet. \n",
    "- [A gallery of interesting Jupyter Notebooks](https://github.com/jupyter/jupyter/wiki/A-gallery-of-interesting-Jupyter-Notebooks/): This ever-growing list of notebooks, powered by nbviewer, shows the depth and breadth of numerical analysis you can do with IPython. It includes everything from short examples and tutorials to full-blown courses and books composed in the notebook format!"
   ]
  },
  {
   "cell_type": "code",
   "execution_count": 215,
   "id": "81e0b8b4-8b5e-4ed6-b30e-139e6447cedd",
   "metadata": {},
   "outputs": [
    {
     "name": "stdout",
     "output_type": "stream",
     "text": [
      "0.43\n"
     ]
    }
   ],
   "source": [
    "'''\n",
    "with List comprehension\n",
    "'''\n",
    "import numpy as np\n",
    "def L3(yhat, y):\n",
    "#If lists are of same length\n",
    "    sum1 = sum([(y[i] - yhat[i])**2 for i in range(len(y))])\n",
    "    print(sum1)\n",
    "\n",
    "yhat = np.array([.9, 0.2, 0.1, .4, .9])\n",
    "y = np.array([1, 0, 0, 1, 1])\n",
    "L3(yhat,y)"
   ]
  },
  {
   "cell_type": "code",
   "execution_count": null,
   "id": "33a36bb6-087f-4312-a0db-6157b162dcce",
   "metadata": {},
   "outputs": [],
   "source": []
  }
 ],
 "metadata": {
  "kernelspec": {
   "display_name": "Python 3 (ipykernel)",
   "language": "python",
   "name": "python3"
  },
  "language_info": {
   "codemirror_mode": {
    "name": "ipython",
    "version": 3
   },
   "file_extension": ".py",
   "mimetype": "text/x-python",
   "name": "python",
   "nbconvert_exporter": "python",
   "pygments_lexer": "ipython3",
   "version": "3.9.21"
  }
 },
 "nbformat": 4,
 "nbformat_minor": 5
}
