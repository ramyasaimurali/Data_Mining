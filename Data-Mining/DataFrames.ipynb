{
 "cells": [
  {
   "cell_type": "code",
   "execution_count": 2,
   "id": "c4c0e51b-190e-41ad-a8ef-e9716bdac033",
   "metadata": {},
   "outputs": [
    {
     "ename": "IndentationError",
     "evalue": "unexpected indent (2542677201.py, line 10)",
     "output_type": "error",
     "traceback": [
      "\u001b[0;36m  Cell \u001b[0;32mIn[2], line 10\u001b[0;36m\u001b[0m\n\u001b[0;31m    '''Both loc and iloc are row-first, column-second.'''\u001b[0m\n\u001b[0m    ^\u001b[0m\n\u001b[0;31mIndentationError\u001b[0m\u001b[0;31m:\u001b[0m unexpected indent\n"
     ]
    }
   ],
   "source": [
    "df['colname']  or df.colname                              #- to get values in a column\n",
    "\n",
    "df['colname'][indexnum]                      # - to get value at indexnum of column\n",
    "\n",
    "#Indexing\n",
    "\n",
    "#index-based selection                  #Syntax: df.iloc[row_selection, column_selection]\n",
    "                                        #: (colon) in the row position means select all rows and same applies for col\n",
    "df.iloc[0]                              # - To select the first row of data in a DataFrame\n",
    "                                             '''Both loc and iloc are row-first, column-second.'''\n",
    "                       \n",
    "df.iloc[:, 0]                           # - To get all rows in 0th col \n",
    "df.iloc[:3, 0]                          # - To get the first three rows from 0th col\n",
    "df.iloc[1:3, 0]                         # - To get the sec and third row in 0th col\n",
    "\n",
    "'''It's also possible to pass a list:'''\n",
    "df.iloc[[0, 1, 2], 0]                   # - to get 0,1,2 rows from 0th col\n",
    "\n",
    "'''Can use negative numbers'''\n",
    "df.iloc[-5:]                            # - gives last 5 rows/elements\n",
    "\n",
    "#Label-Based indexing                  #Syntax: df.loc[row_selection, column_selection]\n",
    "df.loc[indexvalue1, 'country']         #'text' not '' for num\n",
    "\n",
    "''' iloc [0-10] means 0-9 \n",
    "     loc[0-10] means 0-10\n",
    "'''\n",
    "\n",
    "#Manipulate the index\n",
    "df.set_index(\"indexname\")           #just the name of the index changes (title: value1 , value2 and so on)\n",
    "\n",
    "#Conditonal selection\n",
    "df.columnname (condition) 'value'   #example: df.country == 'Italy' returns true or false for all values in col country by checking if its Italy\n",
    "\n",
    "df.loc[df.columnname (condition) 'value']   ##example: df.loc[df.country == 'Italy'] gives the elements/rows of all true ie Italy countries\n",
    "\n",
    "#Use ampersand too for example: (AND)\n",
    "reviews.loc[(reviews.country == 'Italy') & (reviews.points >= 90)]\n",
    "\n",
    "#Use pipe too for example: (OR)\n",
    "reviews.loc[(reviews.country == 'Italy') | (reviews.points >= 90)]\n",
    "\n",
    "#isin\n",
    "DataFrame.isin(values)\n",
    "Series.isin(values)        #Syntax: df['column'].isin(values) Ex:reviews.loc[reviews.country.isin(['Italy', 'France'])] \n",
    "                                    #to get rows all wines from italy or france\n",
    "\n",
    "'''values: The values to check for. Can be:\n",
    "\n",
    "A list or set: [1, 3,[5]\n",
    "\n",
    "A dictionary: {'col1': [1,3], 'col2': [2,4]}\n",
    "\n",
    "Another Series or DataFrame'''\n",
    "\n",
    "#isnull and not null\n",
    "#Example: reviews.loc[reviews.price.notnull()] For example, to filter out wines lacking a price tag in the dataset, here's what we would do:\n",
    "\n",
    "#Assigning Data\n",
    "df['colname'] = 'value-to-reassign in all rows'"
   ]
  }
 ],
 "metadata": {
  "kernelspec": {
   "display_name": "Python (DataMining)",
   "language": "python",
   "name": "datamining"
  },
  "language_info": {
   "codemirror_mode": {
    "name": "ipython",
    "version": 3
   },
   "file_extension": ".py",
   "mimetype": "text/x-python",
   "name": "python",
   "nbconvert_exporter": "python",
   "pygments_lexer": "ipython3",
   "version": "3.9.21"
  }
 },
 "nbformat": 4,
 "nbformat_minor": 5
}
